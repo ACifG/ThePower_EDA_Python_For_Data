{
 "cells": [
  {
   "cell_type": "markdown",
   "id": "6eae3c3f",
   "metadata": {},
   "source": [
    "# 01 - Carga y validación de los datos\n",
    "\n",
    "## Objetivo:\n",
    "\n",
    "En este notebook se recoge la carga de datasets y la validación básica de calidad de los datos. Para ello vamos a seguir la siguiente estructura:\n",
    "\n",
    "1. Configuración inicial.\n",
    "2. Carga de datasets.\n",
    "3. Validación básica.\n",
    "4. Matchin de IDs de los DataFrames generados.\n",
    "5. Detección de problemas en los datos.\n",
    "6. Guardado de metadatos."
   ]
  },
  {
   "cell_type": "markdown",
   "id": "1e5d79fa",
   "metadata": {},
   "source": [
    "## CONFIGURACIÓN INICIAL"
   ]
  },
  {
   "cell_type": "code",
   "execution_count": 3,
   "id": "29ef7ae7",
   "metadata": {},
   "outputs": [
    {
     "name": "stdout",
     "output_type": "stream",
     "text": [
      "📁 Notebook ejecutado desde: c:\\Users\\ASUS\\OneDrive\\Escritorio\\Curso Data Analyst\\ThePower\\Troncal\\7_Python_para_Data\\EDA\\notebooks\n",
      "📁 Directorio raíz del proyecto: c:\\Users\\ASUS\\OneDrive\\Escritorio\\Curso Data Analyst\\ThePower\\Troncal\\7_Python_para_Data\\EDA\n",
      "✅ Carpeta scripts encontrada: c:\\Users\\ASUS\\OneDrive\\Escritorio\\Curso Data Analyst\\ThePower\\Troncal\\7_Python_para_Data\\EDA\\scripts\n"
     ]
    }
   ],
   "source": [
    "# ------------------------------------------------------------------\n",
    "#                           configuración\n",
    "# ------------------------------------------------------------------\n",
    "\n",
    "# Cargamos las librerías que vamos a utilizar\n",
    "# -------------------------------------------\n",
    "import pandas as pd\n",
    "import numpy as np\n",
    "import matplotlib.pyplot as plt\n",
    "import seaborn as sns\n",
    "import os\n",
    "import sys\n",
    "from pathlib import Path\n",
    "\n",
    "# Configuración de visualización\n",
    "#plt.style.use('seaborn-v0_8')\n",
    "#sns.set_palette(\"husl\")\n",
    "#pd.set_option('display.max_columns', 50)\n",
    "#pd.set_option('display.width', 1000)\n",
    "\n",
    "# Configuración de rutas\n",
    "current_dir = Path.cwd()\n",
    "raw_data_dir = current_dir  / \"data\" / \"raw\" # Ruta de los datos proporcionados por ThePower para el entregable\n",
    "processed_data_dir = current_dir / \"data\" / \"processed\" # Aquí vamos a guardaremos los datos tras procesarlos\n",
    "scripts_path = current_dir / \"scripts\" # Ruta donde vamos a guardar los scripts para manejar los datos\n",
    "\n",
    "# Añadimos los scripts que hemos generado al path\n",
    "current_dir = Path.cwd()\n",
    "if current_dir.name == \"notebooks\":\n",
    "    # Estamos dentro de notebooks/, subir un nivel\n",
    "    root_dir = current_dir.parent\n",
    "    print(f\"📁 Notebook ejecutado desde: {current_dir}\")\n",
    "    print(f\"📁 Directorio raíz del proyecto: {root_dir}\")\n",
    "else:\n",
    "    # Estamos en la raíz\n",
    "    root_dir = current_dir\n",
    "    print(f\"📁 Ejecutando desde raíz: {root_dir}\")\n",
    "\n",
    "# Configuración de paths CORRECTOS\n",
    "data_raw_path = root_dir / \"data\" / \"raw\"\n",
    "data_processed_path = root_dir / \"data\" / \"processed\"\n",
    "scripts_path = root_dir / \"scripts\"\n",
    "\n",
    "# ✅ VERIFICACIÓN Y CONFIGURACIÓN CORRECTA\n",
    "if scripts_path.exists():\n",
    "    sys.path.append(str(scripts_path))\n",
    "    print(f\"✅ Carpeta scripts encontrada: {scripts_path}\")\n",
    "else:\n",
    "    print(\"❌ Carpeta scripts NO encontrada\")\n",
    "    # Crearla en la ubicación CORRECTA (raíz del proyecto)\n",
    "    scripts_path.mkdir(exist_ok=True)\n",
    "    print(f\"📁 Carpeta scripts creada en: {scripts_path}\")\n",
    "    sys.path.append(str(scripts_path))"
   ]
  },
  {
   "cell_type": "markdown",
   "id": "a4a0c0bf",
   "metadata": {},
   "source": [
    "## CARGA DE DATOS"
   ]
  },
  {
   "cell_type": "code",
   "execution_count": 4,
   "id": "0600a357",
   "metadata": {},
   "outputs": [
    {
     "name": "stdout",
     "output_type": "stream",
     "text": [
      "Cargando datasets...\n",
      "c:\\Users\\ASUS\\OneDrive\\Escritorio\\Curso Data Analyst\\ThePower\\Troncal\\7_Python_para_Data\\EDA\\data\\raw\\bank-additional.csv\n",
      "📦 Bank file exists: True\n",
      "c:\\Users\\ASUS\\OneDrive\\Escritorio\\Curso Data Analyst\\ThePower\\Troncal\\7_Python_para_Data\\EDA\\data\\raw\\customer-details.xlsx\n",
      "📦 Customer file exists: True\n",
      "Cargando datos desde el archivo c:\\Users\\ASUS\\OneDrive\\Escritorio\\Curso Data Analyst\\ThePower\\Troncal\\7_Python_para_Data\\EDA\\data\\raw\\bank-additional.csv...\n",
      "Se ha generado el dataframe con datos de c:\\Users\\ASUS\\OneDrive\\Escritorio\\Curso Data Analyst\\ThePower\\Troncal\\7_Python_para_Data\\EDA\\data\\raw\\bank-additional.csv...\n",
      "Cargando datos desde el archivo c:\\Users\\ASUS\\OneDrive\\Escritorio\\Curso Data Analyst\\ThePower\\Troncal\\7_Python_para_Data\\EDA\\data\\raw\\customer-details.xlsx...\n",
      "Error: Missing optional dependency 'openpyxl'.  Use pip or conda to install openpyxl.\n"
     ]
    },
    {
     "ename": "ValueError",
     "evalue": "❌ No se pudo cargar customer dataset",
     "output_type": "error",
     "traceback": [
      "\u001b[31m---------------------------------------------------------------------------\u001b[39m",
      "\u001b[31mValueError\u001b[39m                                Traceback (most recent call last)",
      "\u001b[36mCell\u001b[39m\u001b[36m \u001b[39m\u001b[32mIn[4]\u001b[39m\u001b[32m, line 26\u001b[39m\n\u001b[32m     24\u001b[39m     \u001b[38;5;28;01mraise\u001b[39;00m \u001b[38;5;167;01mValueError\u001b[39;00m(\u001b[33m\"\u001b[39m\u001b[33m❌ No se pudo cargar bank dataset\u001b[39m\u001b[33m\"\u001b[39m)\n\u001b[32m     25\u001b[39m \u001b[38;5;28;01mif\u001b[39;00m customer_df \u001b[38;5;129;01mis\u001b[39;00m \u001b[38;5;28;01mNone\u001b[39;00m:\n\u001b[32m---> \u001b[39m\u001b[32m26\u001b[39m     \u001b[38;5;28;01mraise\u001b[39;00m \u001b[38;5;167;01mValueError\u001b[39;00m(\u001b[33m\"\u001b[39m\u001b[33m❌ No se pudo cargar customer dataset\u001b[39m\u001b[33m\"\u001b[39m)\n\u001b[32m     28\u001b[39m \u001b[38;5;28mprint\u001b[39m(\u001b[33m\"\u001b[39m\u001b[33m✅ Datasets cargados correctamente\u001b[39m\u001b[33m\"\u001b[39m)\n",
      "\u001b[31mValueError\u001b[39m: ❌ No se pudo cargar customer dataset"
     ]
    }
   ],
   "source": [
    "# ------------------------------------------------------------------\n",
    "#                           carga de datos\n",
    "# ------------------------------------------------------------------\n",
    "\n",
    "print(\"Cargando datasets...\")\n",
    "\n",
    "# Comprobamos que existen los datasets \n",
    "bank_file = data_raw_path / \"bank-additional.csv\"\n",
    "print(bank_file)\n",
    "print(f\"📦 Bank file exists: {bank_file.exists()}\")\n",
    "\n",
    "customer_file = data_raw_path / \"customer-details.xlsx\"\n",
    "print(customer_file)\n",
    "print(f\"📦 Customer file exists: {customer_file.exists()}\")\n",
    "\n",
    "# Cargamos los datasets, haciendo uso de nuestros scripts\n",
    "from data_loading import data_loading\n",
    "\n",
    "bank_df = data_loading(data_raw_path, \"bank-additional.csv\")\n",
    "customer_df = data_loading(data_raw_path, \"customer-details.xlsx\", sheet_name=['2012', '2013', '2014'])\n",
    "\n",
    "# Verificamos que se cargaron correctamente\n",
    "if bank_df is None:\n",
    "    raise ValueError(\"❌ No se pudo cargar bank dataset\")\n",
    "if customer_df is None:\n",
    "    raise ValueError(\"❌ No se pudo cargar customer dataset\")\n",
    "\n",
    "print(\"✅ Datasets cargados correctamente\")"
   ]
  }
 ],
 "metadata": {
  "kernelspec": {
   "display_name": "venv",
   "language": "python",
   "name": "python3"
  },
  "language_info": {
   "codemirror_mode": {
    "name": "ipython",
    "version": 3
   },
   "file_extension": ".py",
   "mimetype": "text/x-python",
   "name": "python",
   "nbconvert_exporter": "python",
   "pygments_lexer": "ipython3",
   "version": "3.12.10"
  }
 },
 "nbformat": 4,
 "nbformat_minor": 5
}
